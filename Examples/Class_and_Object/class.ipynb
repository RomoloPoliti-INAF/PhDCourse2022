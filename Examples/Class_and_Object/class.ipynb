{
 "cells": [
  {
   "cell_type": "markdown",
   "metadata": {},
   "source": [
    "# Classi o Oggetti"
   ]
  },
  {
   "cell_type": "code",
   "execution_count": 1,
   "metadata": {},
   "outputs": [],
   "source": [
    "class Ver:\n",
    "    version=\"1.0\""
   ]
  },
  {
   "cell_type": "code",
   "execution_count": 2,
   "metadata": {},
   "outputs": [],
   "source": [
    "a=Ver()"
   ]
  },
  {
   "cell_type": "code",
   "execution_count": 3,
   "metadata": {},
   "outputs": [
    {
     "name": "stdout",
     "output_type": "stream",
     "text": [
      "<__main__.Ver object at 0x1094bac20>\n"
     ]
    }
   ],
   "source": [
    "print(a)"
   ]
  },
  {
   "cell_type": "code",
   "execution_count": 4,
   "metadata": {},
   "outputs": [
    {
     "name": "stdout",
     "output_type": "stream",
     "text": [
      "1.0\n"
     ]
    }
   ],
   "source": [
    "print(a.version)"
   ]
  },
  {
   "cell_type": "markdown",
   "metadata": {},
   "source": [
    "In questo caso abbiamo creato una classe **costante**.\n",
    "\n",
    "Secondo la PEP8 le costanti deovrebbero avere il nome tutto in maisucolo (**VERSION** nel nostro caso)"
   ]
  },
  {
   "cell_type": "code",
   "execution_count": 5,
   "metadata": {},
   "outputs": [],
   "source": [
    "class Ver:\n",
    "    def __init__(self,version):\n",
    "        self.version=version"
   ]
  },
  {
   "cell_type": "code",
   "execution_count": 6,
   "metadata": {},
   "outputs": [],
   "source": [
    "a=Ver(\"1.0\")"
   ]
  },
  {
   "cell_type": "code",
   "execution_count": 7,
   "metadata": {},
   "outputs": [
    {
     "name": "stdout",
     "output_type": "stream",
     "text": [
      "1.0\n"
     ]
    }
   ],
   "source": [
    "print(a.version)"
   ]
  },
  {
   "cell_type": "code",
   "execution_count": 8,
   "metadata": {},
   "outputs": [
    {
     "name": "stdout",
     "output_type": "stream",
     "text": [
      "<__main__.Ver object at 0x1094ba320>\n"
     ]
    }
   ],
   "source": [
    "print(a)"
   ]
  },
  {
   "cell_type": "code",
   "execution_count": 9,
   "metadata": {},
   "outputs": [],
   "source": [
    "class Ver:\n",
    "    def __init__(self,version):\n",
    "        self.version=version\n",
    "    \n",
    "    def __str__(self):\n",
    "        return f\"Version: {self.version}\""
   ]
  },
  {
   "cell_type": "code",
   "execution_count": 10,
   "metadata": {},
   "outputs": [],
   "source": [
    "a=Ver(\"1.1\")"
   ]
  },
  {
   "cell_type": "code",
   "execution_count": 11,
   "metadata": {},
   "outputs": [
    {
     "name": "stdout",
     "output_type": "stream",
     "text": [
      "Version: 1.1\n"
     ]
    }
   ],
   "source": [
    "print(a)"
   ]
  },
  {
   "cell_type": "code",
   "execution_count": 12,
   "metadata": {},
   "outputs": [],
   "source": [
    "from version import Version"
   ]
  },
  {
   "cell_type": "code",
   "execution_count": 20,
   "metadata": {},
   "outputs": [],
   "source": [
    "a=Version((1,2,3,'final',1))"
   ]
  },
  {
   "cell_type": "code",
   "execution_count": 21,
   "metadata": {},
   "outputs": [
    {
     "name": "stdout",
     "output_type": "stream",
     "text": [
      "1.2.3\n"
     ]
    }
   ],
   "source": [
    "print(a)"
   ]
  },
  {
   "cell_type": "code",
   "execution_count": 22,
   "metadata": {},
   "outputs": [
    {
     "data": {
      "text/plain": [
       "'1.2.3-final.1'"
      ]
     },
     "execution_count": 22,
     "metadata": {},
     "output_type": "execute_result"
    }
   ],
   "source": [
    "a.full()"
   ]
  },
  {
   "cell_type": "code",
   "execution_count": 25,
   "metadata": {},
   "outputs": [],
   "source": [
    "from rich import inspect"
   ]
  },
  {
   "cell_type": "code",
   "execution_count": 27,
   "metadata": {},
   "outputs": [
    {
     "data": {
      "text/html": [
       "<pre style=\"white-space:pre;overflow-x:auto;line-height:normal;font-family:Menlo,'DejaVu Sans Mono',consolas,'Courier New',monospace\"><span style=\"color: #000080; text-decoration-color: #000080\">╭──────────────────────────────── </span><span style=\"color: #000080; text-decoration-color: #000080; font-weight: bold\">&lt;</span><span style=\"color: #ff00ff; text-decoration-color: #ff00ff; font-weight: bold\">class</span><span style=\"color: #000000; text-decoration-color: #000000\"> </span><span style=\"color: #008000; text-decoration-color: #008000\">'version.Version'</span><span style=\"color: #000080; text-decoration-color: #000080; font-weight: bold\">&gt;</span><span style=\"color: #000080; text-decoration-color: #000080\"> ────────────────────────────────╮</span>\n",
       "<span style=\"color: #000080; text-decoration-color: #000080\">│</span> <span style=\"color: #008080; text-decoration-color: #008080\">Version Class</span>                                                                             <span style=\"color: #000080; text-decoration-color: #000080\">│</span>\n",
       "<span style=\"color: #000080; text-decoration-color: #000080\">│</span> <span style=\"color: #008080; text-decoration-color: #008080\">respecting the semantic versioning </span><span style=\"color: #008080; text-decoration-color: #008080; font-weight: bold\">2.0</span><span style=\"color: #008080; text-decoration-color: #008080\">.</span><span style=\"color: #008080; text-decoration-color: #008080; font-weight: bold\">0</span>                                                  <span style=\"color: #000080; text-decoration-color: #000080\">│</span>\n",
       "<span style=\"color: #000080; text-decoration-color: #000080\">│</span>                                                                                           <span style=\"color: #000080; text-decoration-color: #000080\">│</span>\n",
       "<span style=\"color: #000080; text-decoration-color: #000080\">│</span> <span style=\"color: #008000; text-decoration-color: #008000\">╭───────────────────────────────────────────────────────────────────────────────────────╮</span> <span style=\"color: #000080; text-decoration-color: #000080\">│</span>\n",
       "<span style=\"color: #000080; text-decoration-color: #000080\">│</span> <span style=\"color: #008000; text-decoration-color: #008000\">│</span> <span style=\"font-weight: bold\">&lt;</span><span style=\"color: #ff00ff; text-decoration-color: #ff00ff; font-weight: bold\">version.Version</span><span style=\"color: #000000; text-decoration-color: #000000\"> object at </span><span style=\"color: #008080; text-decoration-color: #008080; font-weight: bold\">0x1090a89d0</span><span style=\"font-weight: bold\">&gt;</span>                                               <span style=\"color: #008000; text-decoration-color: #008000\">│</span> <span style=\"color: #000080; text-decoration-color: #000080\">│</span>\n",
       "<span style=\"color: #000080; text-decoration-color: #000080\">│</span> <span style=\"color: #008000; text-decoration-color: #008000\">╰───────────────────────────────────────────────────────────────────────────────────────╯</span> <span style=\"color: #000080; text-decoration-color: #000080\">│</span>\n",
       "<span style=\"color: #000080; text-decoration-color: #000080\">│</span>                                                                                           <span style=\"color: #000080; text-decoration-color: #000080\">│</span>\n",
       "<span style=\"color: #000080; text-decoration-color: #000080\">│</span>            <span style=\"color: #808000; text-decoration-color: #808000; font-style: italic\">_build</span> = <span style=\"color: #008080; text-decoration-color: #008080; font-weight: bold\">1</span>                                                                     <span style=\"color: #000080; text-decoration-color: #000080\">│</span>\n",
       "<span style=\"color: #000080; text-decoration-color: #000080\">│</span>          <span style=\"color: #bfbf7f; text-decoration-color: #bfbf7f; font-style: italic\">__dict__</span> = <span style=\"font-weight: bold\">{</span>                                                                     <span style=\"color: #000080; text-decoration-color: #000080\">│</span>\n",
       "<span style=\"color: #000080; text-decoration-color: #000080\">│</span>                         <span style=\"color: #008000; text-decoration-color: #008000\">'_major'</span>: <span style=\"color: #008080; text-decoration-color: #008080; font-weight: bold\">1</span>,                                                      <span style=\"color: #000080; text-decoration-color: #000080\">│</span>\n",
       "<span style=\"color: #000080; text-decoration-color: #000080\">│</span>                         <span style=\"color: #008000; text-decoration-color: #008000\">'_minor'</span>: <span style=\"color: #008080; text-decoration-color: #008080; font-weight: bold\">2</span>,                                                      <span style=\"color: #000080; text-decoration-color: #000080\">│</span>\n",
       "<span style=\"color: #000080; text-decoration-color: #000080\">│</span>                         <span style=\"color: #008000; text-decoration-color: #008000\">'_patch'</span>: <span style=\"color: #008080; text-decoration-color: #008080; font-weight: bold\">3</span>,                                                      <span style=\"color: #000080; text-decoration-color: #000080\">│</span>\n",
       "<span style=\"color: #000080; text-decoration-color: #000080\">│</span>                         <span style=\"color: #008000; text-decoration-color: #008000\">'_type'</span>: <span style=\"color: #008000; text-decoration-color: #008000\">'final'</span>,                                                 <span style=\"color: #000080; text-decoration-color: #000080\">│</span>\n",
       "<span style=\"color: #000080; text-decoration-color: #000080\">│</span>                         <span style=\"color: #008000; text-decoration-color: #008000\">'_build'</span>: <span style=\"color: #008080; text-decoration-color: #008080; font-weight: bold\">1</span>                                                       <span style=\"color: #000080; text-decoration-color: #000080\">│</span>\n",
       "<span style=\"color: #000080; text-decoration-color: #000080\">│</span>                     <span style=\"font-weight: bold\">}</span>                                                                     <span style=\"color: #000080; text-decoration-color: #000080\">│</span>\n",
       "<span style=\"color: #000080; text-decoration-color: #000080\">│</span>           <span style=\"color: #bfbf7f; text-decoration-color: #bfbf7f; font-style: italic\">__doc__</span> = <span style=\"color: #008000; text-decoration-color: #008000\">'Version Class\\n        respecting the semantic versioning 2.0.0\\n   </span> <span style=\"color: #000080; text-decoration-color: #000080\">│</span>\n",
       "<span style=\"color: #000080; text-decoration-color: #000080\">│</span>                     <span style=\"color: #008000; text-decoration-color: #008000\">'</span>                                                                     <span style=\"color: #000080; text-decoration-color: #000080\">│</span>\n",
       "<span style=\"color: #000080; text-decoration-color: #000080\">│</span>            <span style=\"color: #808000; text-decoration-color: #808000; font-style: italic\">_major</span> = <span style=\"color: #008080; text-decoration-color: #008080; font-weight: bold\">1</span>                                                                     <span style=\"color: #000080; text-decoration-color: #000080\">│</span>\n",
       "<span style=\"color: #000080; text-decoration-color: #000080\">│</span>            <span style=\"color: #808000; text-decoration-color: #808000; font-style: italic\">_minor</span> = <span style=\"color: #008080; text-decoration-color: #008080; font-weight: bold\">2</span>                                                                     <span style=\"color: #000080; text-decoration-color: #000080\">│</span>\n",
       "<span style=\"color: #000080; text-decoration-color: #000080\">│</span>        <span style=\"color: #bfbf7f; text-decoration-color: #bfbf7f; font-style: italic\">__module__</span> = <span style=\"color: #008000; text-decoration-color: #008000\">'version'</span>                                                             <span style=\"color: #000080; text-decoration-color: #000080\">│</span>\n",
       "<span style=\"color: #000080; text-decoration-color: #000080\">│</span>            <span style=\"color: #808000; text-decoration-color: #808000; font-style: italic\">_patch</span> = <span style=\"color: #008080; text-decoration-color: #008080; font-weight: bold\">3</span>                                                                     <span style=\"color: #000080; text-decoration-color: #000080\">│</span>\n",
       "<span style=\"color: #000080; text-decoration-color: #000080\">│</span>             <span style=\"color: #808000; text-decoration-color: #808000; font-style: italic\">_type</span> = <span style=\"color: #008000; text-decoration-color: #008000\">'final'</span>                                                               <span style=\"color: #000080; text-decoration-color: #000080\">│</span>\n",
       "<span style=\"color: #000080; text-decoration-color: #000080\">│</span>           <span style=\"color: #808000; text-decoration-color: #808000; font-style: italic\">version</span> = <span style=\"color: #008000; text-decoration-color: #008000\">'1.2.3-final.1'</span>                                                       <span style=\"color: #000080; text-decoration-color: #000080\">│</span>\n",
       "<span style=\"color: #000080; text-decoration-color: #000080\">│</span>       <span style=\"color: #bfbf7f; text-decoration-color: #bfbf7f; font-style: italic\">__weakref__</span> = <span style=\"color: #800080; text-decoration-color: #800080; font-style: italic\">None</span>                                                                  <span style=\"color: #000080; text-decoration-color: #000080\">│</span>\n",
       "<span style=\"color: #000080; text-decoration-color: #000080\">│</span>         <span style=\"color: #bfbf7f; text-decoration-color: #bfbf7f; font-style: italic\">__class__</span> = <span style=\"color: #00ffff; text-decoration-color: #00ffff; font-style: italic\">class </span><span style=\"color: #800000; text-decoration-color: #800000; font-weight: bold\">__class__</span><span style=\"font-weight: bold\">(</span>version: tuple<span style=\"font-weight: bold\">)</span>:                                      <span style=\"color: #000080; text-decoration-color: #000080\">│</span>\n",
       "<span style=\"color: #000080; text-decoration-color: #000080\">│</span>                     <span style=\"color: #7f7f7f; text-decoration-color: #7f7f7f\">Version Class</span>                                                         <span style=\"color: #000080; text-decoration-color: #000080\">│</span>\n",
       "<span style=\"color: #000080; text-decoration-color: #000080\">│</span>                     <span style=\"color: #7f7f7f; text-decoration-color: #7f7f7f\">respecting the semantic versioning </span><span style=\"color: #7fbfbf; text-decoration-color: #7fbfbf; font-weight: bold\">2.0</span><span style=\"color: #7f7f7f; text-decoration-color: #7f7f7f\">.</span><span style=\"color: #7fbfbf; text-decoration-color: #7fbfbf; font-weight: bold\">0</span>                              <span style=\"color: #000080; text-decoration-color: #000080\">│</span>\n",
       "<span style=\"color: #000080; text-decoration-color: #000080\">│</span>       <span style=\"color: #bfbf7f; text-decoration-color: #bfbf7f; font-style: italic\">__delattr__</span> = <span style=\"color: #00ffff; text-decoration-color: #00ffff; font-style: italic\">def </span><span style=\"color: #800000; text-decoration-color: #800000; font-weight: bold\">__delattr__</span><span style=\"font-weight: bold\">(</span>name, <span style=\"color: #800080; text-decoration-color: #800080\">/</span><span style=\"font-weight: bold\">)</span>: <span style=\"color: #7f7f7f; text-decoration-color: #7f7f7f\">Implement </span><span style=\"color: #bf7fbf; text-decoration-color: #bf7fbf; font-weight: bold\">delattr</span><span style=\"color: #7f7f7f; text-decoration-color: #7f7f7f; font-weight: bold\">(</span><span style=\"color: #7f7f7f; text-decoration-color: #7f7f7f\">self, name</span><span style=\"color: #7f7f7f; text-decoration-color: #7f7f7f; font-weight: bold\">)</span><span style=\"color: #7f7f7f; text-decoration-color: #7f7f7f\">.</span>              <span style=\"color: #000080; text-decoration-color: #000080\">│</span>\n",
       "<span style=\"color: #000080; text-decoration-color: #000080\">│</span>           <span style=\"color: #bfbf7f; text-decoration-color: #bfbf7f; font-style: italic\">__dir__</span> = <span style=\"color: #00ffff; text-decoration-color: #00ffff; font-style: italic\">def </span><span style=\"color: #800000; text-decoration-color: #800000; font-weight: bold\">__dir__</span><span style=\"font-weight: bold\">()</span>: <span style=\"color: #7f7f7f; text-decoration-color: #7f7f7f\">Default </span><span style=\"color: #bf7fbf; text-decoration-color: #bf7fbf; font-weight: bold\">dir</span><span style=\"color: #7f7f7f; text-decoration-color: #7f7f7f; font-weight: bold\">()</span><span style=\"color: #7f7f7f; text-decoration-color: #7f7f7f\"> implementation.</span>                          <span style=\"color: #000080; text-decoration-color: #000080\">│</span>\n",
       "<span style=\"color: #000080; text-decoration-color: #000080\">│</span>            <span style=\"color: #bfbf7f; text-decoration-color: #bfbf7f; font-style: italic\">__eq__</span> = <span style=\"color: #00ffff; text-decoration-color: #00ffff; font-style: italic\">def </span><span style=\"color: #800000; text-decoration-color: #800000; font-weight: bold\">__eq__</span><span style=\"font-weight: bold\">(</span>value, <span style=\"color: #800080; text-decoration-color: #800080\">/</span><span style=\"font-weight: bold\">)</span>: <span style=\"color: #7f7f7f; text-decoration-color: #7f7f7f\">Return </span><span style=\"color: #bfbf7f; text-decoration-color: #bfbf7f\">self</span><span style=\"color: #7f7f7f; text-decoration-color: #7f7f7f\">==value.</span>                             <span style=\"color: #000080; text-decoration-color: #000080\">│</span>\n",
       "<span style=\"color: #000080; text-decoration-color: #000080\">│</span>        <span style=\"color: #bfbf7f; text-decoration-color: #bfbf7f; font-style: italic\">__format__</span> = <span style=\"color: #00ffff; text-decoration-color: #00ffff; font-style: italic\">def </span><span style=\"color: #800000; text-decoration-color: #800000; font-weight: bold\">__format__</span><span style=\"font-weight: bold\">(</span>format_spec, <span style=\"color: #800080; text-decoration-color: #800080\">/</span><span style=\"font-weight: bold\">)</span>: <span style=\"color: #7f7f7f; text-decoration-color: #7f7f7f\">Default object formatter.</span>             <span style=\"color: #000080; text-decoration-color: #000080\">│</span>\n",
       "<span style=\"color: #000080; text-decoration-color: #000080\">│</span>              <span style=\"color: #808000; text-decoration-color: #808000; font-style: italic\">full</span> = <span style=\"color: #00ffff; text-decoration-color: #00ffff; font-style: italic\">def </span><span style=\"color: #800000; text-decoration-color: #800000; font-weight: bold\">full</span><span style=\"font-weight: bold\">()</span> -&gt; str:                                                    <span style=\"color: #000080; text-decoration-color: #000080\">│</span>\n",
       "<span style=\"color: #000080; text-decoration-color: #000080\">│</span>            <span style=\"color: #bfbf7f; text-decoration-color: #bfbf7f; font-style: italic\">__ge__</span> = <span style=\"color: #00ffff; text-decoration-color: #00ffff; font-style: italic\">def </span><span style=\"color: #800000; text-decoration-color: #800000; font-weight: bold\">__ge__</span><span style=\"font-weight: bold\">(</span>value, <span style=\"color: #800080; text-decoration-color: #800080\">/</span><span style=\"font-weight: bold\">)</span>: <span style=\"color: #7f7f7f; text-decoration-color: #7f7f7f\">Return self&gt;=value.</span>                             <span style=\"color: #000080; text-decoration-color: #000080\">│</span>\n",
       "<span style=\"color: #000080; text-decoration-color: #000080\">│</span>  <span style=\"color: #bfbf7f; text-decoration-color: #bfbf7f; font-style: italic\">__getattribute__</span> = <span style=\"color: #00ffff; text-decoration-color: #00ffff; font-style: italic\">def </span><span style=\"color: #800000; text-decoration-color: #800000; font-weight: bold\">__getattribute__</span><span style=\"font-weight: bold\">(</span>name, <span style=\"color: #800080; text-decoration-color: #800080\">/</span><span style=\"font-weight: bold\">)</span>: <span style=\"color: #7f7f7f; text-decoration-color: #7f7f7f\">Return </span><span style=\"color: #bf7fbf; text-decoration-color: #bf7fbf; font-weight: bold\">getattr</span><span style=\"color: #7f7f7f; text-decoration-color: #7f7f7f; font-weight: bold\">(</span><span style=\"color: #7f7f7f; text-decoration-color: #7f7f7f\">self, name</span><span style=\"color: #7f7f7f; text-decoration-color: #7f7f7f; font-weight: bold\">)</span><span style=\"color: #7f7f7f; text-decoration-color: #7f7f7f\">.</span>            <span style=\"color: #000080; text-decoration-color: #000080\">│</span>\n",
       "<span style=\"color: #000080; text-decoration-color: #000080\">│</span>            <span style=\"color: #bfbf7f; text-decoration-color: #bfbf7f; font-style: italic\">__gt__</span> = <span style=\"color: #00ffff; text-decoration-color: #00ffff; font-style: italic\">def </span><span style=\"color: #800000; text-decoration-color: #800000; font-weight: bold\">__gt__</span><span style=\"font-weight: bold\">(</span>value, <span style=\"color: #800080; text-decoration-color: #800080\">/</span><span style=\"font-weight: bold\">)</span>: <span style=\"color: #7f7f7f; text-decoration-color: #7f7f7f\">Return self&gt;value.</span>                              <span style=\"color: #000080; text-decoration-color: #000080\">│</span>\n",
       "<span style=\"color: #000080; text-decoration-color: #000080\">│</span>          <span style=\"color: #bfbf7f; text-decoration-color: #bfbf7f; font-style: italic\">__hash__</span> = <span style=\"color: #00ffff; text-decoration-color: #00ffff; font-style: italic\">def </span><span style=\"color: #800000; text-decoration-color: #800000; font-weight: bold\">__hash__</span><span style=\"font-weight: bold\">()</span>: <span style=\"color: #7f7f7f; text-decoration-color: #7f7f7f\">Return </span><span style=\"color: #bf7fbf; text-decoration-color: #bf7fbf; font-weight: bold\">hash</span><span style=\"color: #7f7f7f; text-decoration-color: #7f7f7f; font-weight: bold\">(</span><span style=\"color: #7f7f7f; text-decoration-color: #7f7f7f\">self</span><span style=\"color: #7f7f7f; text-decoration-color: #7f7f7f; font-weight: bold\">)</span><span style=\"color: #7f7f7f; text-decoration-color: #7f7f7f\">.</span>                                    <span style=\"color: #000080; text-decoration-color: #000080\">│</span>\n",
       "<span style=\"color: #000080; text-decoration-color: #000080\">│</span>          <span style=\"color: #bfbf7f; text-decoration-color: #bfbf7f; font-style: italic\">__init__</span> = <span style=\"color: #00ffff; text-decoration-color: #00ffff; font-style: italic\">def </span><span style=\"color: #800000; text-decoration-color: #800000; font-weight: bold\">__init__</span><span style=\"font-weight: bold\">(</span>version: tuple<span style=\"font-weight: bold\">)</span>: <span style=\"color: #7f7f7f; text-decoration-color: #7f7f7f\">Initialize self.  See </span><span style=\"color: #bf7fbf; text-decoration-color: #bf7fbf; font-weight: bold\">help</span><span style=\"color: #7f7f7f; text-decoration-color: #7f7f7f; font-weight: bold\">(</span><span style=\"color: #bf7fbf; text-decoration-color: #bf7fbf; font-weight: bold\">type</span><span style=\"color: #7f7f7f; text-decoration-color: #7f7f7f; font-weight: bold\">(</span><span style=\"color: #7f7f7f; text-decoration-color: #7f7f7f\">self</span><span style=\"color: #7f7f7f; text-decoration-color: #7f7f7f; font-weight: bold\">))</span><span style=\"color: #7f7f7f; text-decoration-color: #7f7f7f\"> </span> <span style=\"color: #000080; text-decoration-color: #000080\">│</span>\n",
       "<span style=\"color: #000080; text-decoration-color: #000080\">│</span>                     <span style=\"color: #7f7f7f; text-decoration-color: #7f7f7f\">for accurate signature.</span>                                               <span style=\"color: #000080; text-decoration-color: #000080\">│</span>\n",
       "<span style=\"color: #000080; text-decoration-color: #000080\">│</span> <span style=\"color: #bfbf7f; text-decoration-color: #bfbf7f; font-style: italic\">__init_subclass__</span> = <span style=\"color: #00ffff; text-decoration-color: #00ffff; font-style: italic\">def </span><span style=\"color: #800000; text-decoration-color: #800000; font-weight: bold\">__init_subclass__</span><span style=\"font-weight: bold\">(</span><span style=\"color: #808000; text-decoration-color: #808000\">...</span><span style=\"font-weight: bold\">)</span> <span style=\"color: #7f7f7f; text-decoration-color: #7f7f7f\">This method is called when a class is </span>     <span style=\"color: #000080; text-decoration-color: #000080\">│</span>\n",
       "<span style=\"color: #000080; text-decoration-color: #000080\">│</span>                     <span style=\"color: #7f7f7f; text-decoration-color: #7f7f7f\">subclassed.</span>                                                           <span style=\"color: #000080; text-decoration-color: #000080\">│</span>\n",
       "<span style=\"color: #000080; text-decoration-color: #000080\">│</span>            <span style=\"color: #bfbf7f; text-decoration-color: #bfbf7f; font-style: italic\">__le__</span> = <span style=\"color: #00ffff; text-decoration-color: #00ffff; font-style: italic\">def </span><span style=\"color: #800000; text-decoration-color: #800000; font-weight: bold\">__le__</span><span style=\"font-weight: bold\">(</span>value, <span style=\"color: #800080; text-decoration-color: #800080\">/</span><span style=\"font-weight: bold\">)</span>: <span style=\"color: #7f7f7f; text-decoration-color: #7f7f7f\">Return self&lt;=value.</span>                             <span style=\"color: #000080; text-decoration-color: #000080\">│</span>\n",
       "<span style=\"color: #000080; text-decoration-color: #000080\">│</span>            <span style=\"color: #bfbf7f; text-decoration-color: #bfbf7f; font-style: italic\">__lt__</span> = <span style=\"color: #00ffff; text-decoration-color: #00ffff; font-style: italic\">def </span><span style=\"color: #800000; text-decoration-color: #800000; font-weight: bold\">__lt__</span><span style=\"font-weight: bold\">(</span>value, <span style=\"color: #800080; text-decoration-color: #800080\">/</span><span style=\"font-weight: bold\">)</span>: <span style=\"color: #7f7f7f; text-decoration-color: #7f7f7f\">Return self&lt;value.</span>                              <span style=\"color: #000080; text-decoration-color: #000080\">│</span>\n",
       "<span style=\"color: #000080; text-decoration-color: #000080\">│</span>            <span style=\"color: #bfbf7f; text-decoration-color: #bfbf7f; font-style: italic\">__ne__</span> = <span style=\"color: #00ffff; text-decoration-color: #00ffff; font-style: italic\">def </span><span style=\"color: #800000; text-decoration-color: #800000; font-weight: bold\">__ne__</span><span style=\"font-weight: bold\">(</span>value, <span style=\"color: #800080; text-decoration-color: #800080\">/</span><span style=\"font-weight: bold\">)</span>: <span style=\"color: #7f7f7f; text-decoration-color: #7f7f7f\">Return self!=value.</span>                             <span style=\"color: #000080; text-decoration-color: #000080\">│</span>\n",
       "<span style=\"color: #000080; text-decoration-color: #000080\">│</span>           <span style=\"color: #bfbf7f; text-decoration-color: #bfbf7f; font-style: italic\">__new__</span> = <span style=\"color: #00ffff; text-decoration-color: #00ffff; font-style: italic\">def </span><span style=\"color: #800000; text-decoration-color: #800000; font-weight: bold\">__new__</span><span style=\"font-weight: bold\">(</span>*args, **kwargs<span style=\"font-weight: bold\">)</span>: <span style=\"color: #7f7f7f; text-decoration-color: #7f7f7f\">Create and return a new object.  See </span>   <span style=\"color: #000080; text-decoration-color: #000080\">│</span>\n",
       "<span style=\"color: #000080; text-decoration-color: #000080\">│</span>                     <span style=\"color: #bf7fbf; text-decoration-color: #bf7fbf; font-weight: bold\">help</span><span style=\"color: #7f7f7f; text-decoration-color: #7f7f7f; font-weight: bold\">(</span><span style=\"color: #7f7f7f; text-decoration-color: #7f7f7f\">type</span><span style=\"color: #7f7f7f; text-decoration-color: #7f7f7f; font-weight: bold\">)</span><span style=\"color: #7f7f7f; text-decoration-color: #7f7f7f\"> for accurate signature.</span>                                    <span style=\"color: #000080; text-decoration-color: #000080\">│</span>\n",
       "<span style=\"color: #000080; text-decoration-color: #000080\">│</span>        <span style=\"color: #bfbf7f; text-decoration-color: #bfbf7f; font-style: italic\">__reduce__</span> = <span style=\"color: #00ffff; text-decoration-color: #00ffff; font-style: italic\">def </span><span style=\"color: #800000; text-decoration-color: #800000; font-weight: bold\">__reduce__</span><span style=\"font-weight: bold\">()</span>: <span style=\"color: #7f7f7f; text-decoration-color: #7f7f7f\">Helper for pickle.</span>                                  <span style=\"color: #000080; text-decoration-color: #000080\">│</span>\n",
       "<span style=\"color: #000080; text-decoration-color: #000080\">│</span>     <span style=\"color: #bfbf7f; text-decoration-color: #bfbf7f; font-style: italic\">__reduce_ex__</span> = <span style=\"color: #00ffff; text-decoration-color: #00ffff; font-style: italic\">def </span><span style=\"color: #800000; text-decoration-color: #800000; font-weight: bold\">__reduce_ex__</span><span style=\"font-weight: bold\">(</span>protocol, <span style=\"color: #800080; text-decoration-color: #800080\">/</span><span style=\"font-weight: bold\">)</span>: <span style=\"color: #7f7f7f; text-decoration-color: #7f7f7f\">Helper for pickle.</span>                    <span style=\"color: #000080; text-decoration-color: #000080\">│</span>\n",
       "<span style=\"color: #000080; text-decoration-color: #000080\">│</span>          <span style=\"color: #bfbf7f; text-decoration-color: #bfbf7f; font-style: italic\">__repr__</span> = <span style=\"color: #00ffff; text-decoration-color: #00ffff; font-style: italic\">def </span><span style=\"color: #800000; text-decoration-color: #800000; font-weight: bold\">__repr__</span><span style=\"font-weight: bold\">()</span>: <span style=\"color: #7f7f7f; text-decoration-color: #7f7f7f\">Return </span><span style=\"color: #bf7fbf; text-decoration-color: #bf7fbf; font-weight: bold\">repr</span><span style=\"color: #7f7f7f; text-decoration-color: #7f7f7f; font-weight: bold\">(</span><span style=\"color: #7f7f7f; text-decoration-color: #7f7f7f\">self</span><span style=\"color: #7f7f7f; text-decoration-color: #7f7f7f; font-weight: bold\">)</span><span style=\"color: #7f7f7f; text-decoration-color: #7f7f7f\">.</span>                                    <span style=\"color: #000080; text-decoration-color: #000080\">│</span>\n",
       "<span style=\"color: #000080; text-decoration-color: #000080\">│</span>       <span style=\"color: #bfbf7f; text-decoration-color: #bfbf7f; font-style: italic\">__setattr__</span> = <span style=\"color: #00ffff; text-decoration-color: #00ffff; font-style: italic\">def </span><span style=\"color: #800000; text-decoration-color: #800000; font-weight: bold\">__setattr__</span><span style=\"font-weight: bold\">(</span>name, value, <span style=\"color: #800080; text-decoration-color: #800080\">/</span><span style=\"font-weight: bold\">)</span>: <span style=\"color: #7f7f7f; text-decoration-color: #7f7f7f\">Implement </span><span style=\"color: #bf7fbf; text-decoration-color: #bf7fbf; font-weight: bold\">setattr</span><span style=\"color: #7f7f7f; text-decoration-color: #7f7f7f; font-weight: bold\">(</span><span style=\"color: #7f7f7f; text-decoration-color: #7f7f7f\">self, name, </span>       <span style=\"color: #000080; text-decoration-color: #000080\">│</span>\n",
       "<span style=\"color: #000080; text-decoration-color: #000080\">│</span>                     <span style=\"color: #7f7f7f; text-decoration-color: #7f7f7f\">value</span><span style=\"color: #7f7f7f; text-decoration-color: #7f7f7f; font-weight: bold\">)</span><span style=\"color: #7f7f7f; text-decoration-color: #7f7f7f\">.</span>                                                               <span style=\"color: #000080; text-decoration-color: #000080\">│</span>\n",
       "<span style=\"color: #000080; text-decoration-color: #000080\">│</span>        <span style=\"color: #bfbf7f; text-decoration-color: #bfbf7f; font-style: italic\">__sizeof__</span> = <span style=\"color: #00ffff; text-decoration-color: #00ffff; font-style: italic\">def </span><span style=\"color: #800000; text-decoration-color: #800000; font-weight: bold\">__sizeof__</span><span style=\"font-weight: bold\">()</span>: <span style=\"color: #7f7f7f; text-decoration-color: #7f7f7f\">Size of object in memory, in bytes.</span>                 <span style=\"color: #000080; text-decoration-color: #000080\">│</span>\n",
       "<span style=\"color: #000080; text-decoration-color: #000080\">│</span>           <span style=\"color: #bfbf7f; text-decoration-color: #bfbf7f; font-style: italic\">__str__</span> = <span style=\"color: #00ffff; text-decoration-color: #00ffff; font-style: italic\">def </span><span style=\"color: #800000; text-decoration-color: #800000; font-weight: bold\">__str__</span><span style=\"font-weight: bold\">()</span> -&gt; str: <span style=\"color: #7f7f7f; text-decoration-color: #7f7f7f\">Return </span><span style=\"color: #bf7fbf; text-decoration-color: #bf7fbf; font-weight: bold\">str</span><span style=\"color: #7f7f7f; text-decoration-color: #7f7f7f; font-weight: bold\">(</span><span style=\"color: #7f7f7f; text-decoration-color: #7f7f7f\">self</span><span style=\"color: #7f7f7f; text-decoration-color: #7f7f7f; font-weight: bold\">)</span><span style=\"color: #7f7f7f; text-decoration-color: #7f7f7f\">.</span>                               <span style=\"color: #000080; text-decoration-color: #000080\">│</span>\n",
       "<span style=\"color: #000080; text-decoration-color: #000080\">│</span>  <span style=\"color: #bfbf7f; text-decoration-color: #bfbf7f; font-style: italic\">__subclasshook__</span> = <span style=\"color: #00ffff; text-decoration-color: #00ffff; font-style: italic\">def </span><span style=\"color: #800000; text-decoration-color: #800000; font-weight: bold\">__subclasshook__</span><span style=\"font-weight: bold\">(</span><span style=\"color: #808000; text-decoration-color: #808000\">...</span><span style=\"font-weight: bold\">)</span> <span style=\"color: #7f7f7f; text-decoration-color: #7f7f7f\">Abstract classes can override this to </span>      <span style=\"color: #000080; text-decoration-color: #000080\">│</span>\n",
       "<span style=\"color: #000080; text-decoration-color: #000080\">│</span>                     <span style=\"color: #7f7f7f; text-decoration-color: #7f7f7f\">customize </span><span style=\"color: #bf7fbf; text-decoration-color: #bf7fbf; font-weight: bold\">issubclass</span><span style=\"color: #7f7f7f; text-decoration-color: #7f7f7f; font-weight: bold\">()</span><span style=\"color: #7f7f7f; text-decoration-color: #7f7f7f\">.</span>                                               <span style=\"color: #000080; text-decoration-color: #000080\">│</span>\n",
       "<span style=\"color: #000080; text-decoration-color: #000080\">╰───────────────────────────────────────────────────────────────────────────────────────────╯</span>\n",
       "</pre>\n"
      ],
      "text/plain": [
       "\u001b[34m╭─\u001b[0m\u001b[34m─────────────────────────────── \u001b[0m\u001b[1;34m<\u001b[0m\u001b[1;95mclass\u001b[0m\u001b[39m \u001b[0m\u001b[32m'version.Version'\u001b[0m\u001b[1;34m>\u001b[0m\u001b[34m ───────────────────────────────\u001b[0m\u001b[34m─╮\u001b[0m\n",
       "\u001b[34m│\u001b[0m \u001b[36mVersion Class\u001b[0m                                                                             \u001b[34m│\u001b[0m\n",
       "\u001b[34m│\u001b[0m \u001b[36mrespecting the semantic versioning \u001b[0m\u001b[1;36m2.0\u001b[0m\u001b[36m.\u001b[0m\u001b[1;36m0\u001b[0m                                                  \u001b[34m│\u001b[0m\n",
       "\u001b[34m│\u001b[0m                                                                                           \u001b[34m│\u001b[0m\n",
       "\u001b[34m│\u001b[0m \u001b[32m╭───────────────────────────────────────────────────────────────────────────────────────╮\u001b[0m \u001b[34m│\u001b[0m\n",
       "\u001b[34m│\u001b[0m \u001b[32m│\u001b[0m \u001b[1m<\u001b[0m\u001b[1;95mversion.Version\u001b[0m\u001b[39m object at \u001b[0m\u001b[1;36m0x1090a89d0\u001b[0m\u001b[1m>\u001b[0m                                               \u001b[32m│\u001b[0m \u001b[34m│\u001b[0m\n",
       "\u001b[34m│\u001b[0m \u001b[32m╰───────────────────────────────────────────────────────────────────────────────────────╯\u001b[0m \u001b[34m│\u001b[0m\n",
       "\u001b[34m│\u001b[0m                                                                                           \u001b[34m│\u001b[0m\n",
       "\u001b[34m│\u001b[0m            \u001b[3;33m_build\u001b[0m = \u001b[1;36m1\u001b[0m                                                                     \u001b[34m│\u001b[0m\n",
       "\u001b[34m│\u001b[0m          \u001b[2;3;33m__dict__\u001b[0m = \u001b[1m{\u001b[0m                                                                     \u001b[34m│\u001b[0m\n",
       "\u001b[34m│\u001b[0m                         \u001b[32m'_major'\u001b[0m: \u001b[1;36m1\u001b[0m,                                                      \u001b[34m│\u001b[0m\n",
       "\u001b[34m│\u001b[0m                         \u001b[32m'_minor'\u001b[0m: \u001b[1;36m2\u001b[0m,                                                      \u001b[34m│\u001b[0m\n",
       "\u001b[34m│\u001b[0m                         \u001b[32m'_patch'\u001b[0m: \u001b[1;36m3\u001b[0m,                                                      \u001b[34m│\u001b[0m\n",
       "\u001b[34m│\u001b[0m                         \u001b[32m'_type'\u001b[0m: \u001b[32m'final'\u001b[0m,                                                 \u001b[34m│\u001b[0m\n",
       "\u001b[34m│\u001b[0m                         \u001b[32m'_build'\u001b[0m: \u001b[1;36m1\u001b[0m                                                       \u001b[34m│\u001b[0m\n",
       "\u001b[34m│\u001b[0m                     \u001b[1m}\u001b[0m                                                                     \u001b[34m│\u001b[0m\n",
       "\u001b[34m│\u001b[0m           \u001b[2;3;33m__doc__\u001b[0m = \u001b[32m'Version Class\\n        respecting the semantic versioning 2.0.0\\n   \u001b[0m \u001b[34m│\u001b[0m\n",
       "\u001b[34m│\u001b[0m                     \u001b[32m'\u001b[0m                                                                     \u001b[34m│\u001b[0m\n",
       "\u001b[34m│\u001b[0m            \u001b[3;33m_major\u001b[0m = \u001b[1;36m1\u001b[0m                                                                     \u001b[34m│\u001b[0m\n",
       "\u001b[34m│\u001b[0m            \u001b[3;33m_minor\u001b[0m = \u001b[1;36m2\u001b[0m                                                                     \u001b[34m│\u001b[0m\n",
       "\u001b[34m│\u001b[0m        \u001b[2;3;33m__module__\u001b[0m = \u001b[32m'version'\u001b[0m                                                             \u001b[34m│\u001b[0m\n",
       "\u001b[34m│\u001b[0m            \u001b[3;33m_patch\u001b[0m = \u001b[1;36m3\u001b[0m                                                                     \u001b[34m│\u001b[0m\n",
       "\u001b[34m│\u001b[0m             \u001b[3;33m_type\u001b[0m = \u001b[32m'final'\u001b[0m                                                               \u001b[34m│\u001b[0m\n",
       "\u001b[34m│\u001b[0m           \u001b[3;33mversion\u001b[0m = \u001b[32m'1.2.3-final.1'\u001b[0m                                                       \u001b[34m│\u001b[0m\n",
       "\u001b[34m│\u001b[0m       \u001b[2;3;33m__weakref__\u001b[0m = \u001b[3;35mNone\u001b[0m                                                                  \u001b[34m│\u001b[0m\n",
       "\u001b[34m│\u001b[0m         \u001b[2;3;33m__class__\u001b[0m = \u001b[3;96mclass \u001b[0m\u001b[1;31m__class__\u001b[0m\u001b[1m(\u001b[0mversion: tuple\u001b[1m)\u001b[0m:                                      \u001b[34m│\u001b[0m\n",
       "\u001b[34m│\u001b[0m                     \u001b[2mVersion Class\u001b[0m                                                         \u001b[34m│\u001b[0m\n",
       "\u001b[34m│\u001b[0m                     \u001b[2mrespecting the semantic versioning \u001b[0m\u001b[1;2;36m2.0\u001b[0m\u001b[2m.\u001b[0m\u001b[1;2;36m0\u001b[0m                              \u001b[34m│\u001b[0m\n",
       "\u001b[34m│\u001b[0m       \u001b[2;3;33m__delattr__\u001b[0m = \u001b[3;96mdef \u001b[0m\u001b[1;31m__delattr__\u001b[0m\u001b[1m(\u001b[0mname, \u001b[35m/\u001b[0m\u001b[1m)\u001b[0m: \u001b[2mImplement \u001b[0m\u001b[1;2;35mdelattr\u001b[0m\u001b[1;2m(\u001b[0m\u001b[2mself, name\u001b[0m\u001b[1;2m)\u001b[0m\u001b[2m.\u001b[0m              \u001b[34m│\u001b[0m\n",
       "\u001b[34m│\u001b[0m           \u001b[2;3;33m__dir__\u001b[0m = \u001b[3;96mdef \u001b[0m\u001b[1;31m__dir__\u001b[0m\u001b[1m(\u001b[0m\u001b[1m)\u001b[0m: \u001b[2mDefault \u001b[0m\u001b[1;2;35mdir\u001b[0m\u001b[1;2m(\u001b[0m\u001b[1;2m)\u001b[0m\u001b[2m implementation.\u001b[0m                          \u001b[34m│\u001b[0m\n",
       "\u001b[34m│\u001b[0m            \u001b[2;3;33m__eq__\u001b[0m = \u001b[3;96mdef \u001b[0m\u001b[1;31m__eq__\u001b[0m\u001b[1m(\u001b[0mvalue, \u001b[35m/\u001b[0m\u001b[1m)\u001b[0m: \u001b[2mReturn \u001b[0m\u001b[2;33mself\u001b[0m\u001b[2m==value.\u001b[0m                             \u001b[34m│\u001b[0m\n",
       "\u001b[34m│\u001b[0m        \u001b[2;3;33m__format__\u001b[0m = \u001b[3;96mdef \u001b[0m\u001b[1;31m__format__\u001b[0m\u001b[1m(\u001b[0mformat_spec, \u001b[35m/\u001b[0m\u001b[1m)\u001b[0m: \u001b[2mDefault object formatter.\u001b[0m             \u001b[34m│\u001b[0m\n",
       "\u001b[34m│\u001b[0m              \u001b[3;33mfull\u001b[0m = \u001b[3;96mdef \u001b[0m\u001b[1;31mfull\u001b[0m\u001b[1m(\u001b[0m\u001b[1m)\u001b[0m -> str:                                                    \u001b[34m│\u001b[0m\n",
       "\u001b[34m│\u001b[0m            \u001b[2;3;33m__ge__\u001b[0m = \u001b[3;96mdef \u001b[0m\u001b[1;31m__ge__\u001b[0m\u001b[1m(\u001b[0mvalue, \u001b[35m/\u001b[0m\u001b[1m)\u001b[0m: \u001b[2mReturn self>=value.\u001b[0m                             \u001b[34m│\u001b[0m\n",
       "\u001b[34m│\u001b[0m  \u001b[2;3;33m__getattribute__\u001b[0m = \u001b[3;96mdef \u001b[0m\u001b[1;31m__getattribute__\u001b[0m\u001b[1m(\u001b[0mname, \u001b[35m/\u001b[0m\u001b[1m)\u001b[0m: \u001b[2mReturn \u001b[0m\u001b[1;2;35mgetattr\u001b[0m\u001b[1;2m(\u001b[0m\u001b[2mself, name\u001b[0m\u001b[1;2m)\u001b[0m\u001b[2m.\u001b[0m            \u001b[34m│\u001b[0m\n",
       "\u001b[34m│\u001b[0m            \u001b[2;3;33m__gt__\u001b[0m = \u001b[3;96mdef \u001b[0m\u001b[1;31m__gt__\u001b[0m\u001b[1m(\u001b[0mvalue, \u001b[35m/\u001b[0m\u001b[1m)\u001b[0m: \u001b[2mReturn self>value.\u001b[0m                              \u001b[34m│\u001b[0m\n",
       "\u001b[34m│\u001b[0m          \u001b[2;3;33m__hash__\u001b[0m = \u001b[3;96mdef \u001b[0m\u001b[1;31m__hash__\u001b[0m\u001b[1m(\u001b[0m\u001b[1m)\u001b[0m: \u001b[2mReturn \u001b[0m\u001b[1;2;35mhash\u001b[0m\u001b[1;2m(\u001b[0m\u001b[2mself\u001b[0m\u001b[1;2m)\u001b[0m\u001b[2m.\u001b[0m                                    \u001b[34m│\u001b[0m\n",
       "\u001b[34m│\u001b[0m          \u001b[2;3;33m__init__\u001b[0m = \u001b[3;96mdef \u001b[0m\u001b[1;31m__init__\u001b[0m\u001b[1m(\u001b[0mversion: tuple\u001b[1m)\u001b[0m: \u001b[2mInitialize self.  See \u001b[0m\u001b[1;2;35mhelp\u001b[0m\u001b[1;2m(\u001b[0m\u001b[1;2;35mtype\u001b[0m\u001b[1;2m(\u001b[0m\u001b[2mself\u001b[0m\u001b[1;2m)\u001b[0m\u001b[1;2m)\u001b[0m\u001b[2m \u001b[0m \u001b[34m│\u001b[0m\n",
       "\u001b[34m│\u001b[0m                     \u001b[2mfor accurate signature.\u001b[0m                                               \u001b[34m│\u001b[0m\n",
       "\u001b[34m│\u001b[0m \u001b[2;3;33m__init_subclass__\u001b[0m = \u001b[3;96mdef \u001b[0m\u001b[1;31m__init_subclass__\u001b[0m\u001b[1m(\u001b[0m\u001b[33m...\u001b[0m\u001b[1m)\u001b[0m \u001b[2mThis method is called when a class is \u001b[0m     \u001b[34m│\u001b[0m\n",
       "\u001b[34m│\u001b[0m                     \u001b[2msubclassed.\u001b[0m                                                           \u001b[34m│\u001b[0m\n",
       "\u001b[34m│\u001b[0m            \u001b[2;3;33m__le__\u001b[0m = \u001b[3;96mdef \u001b[0m\u001b[1;31m__le__\u001b[0m\u001b[1m(\u001b[0mvalue, \u001b[35m/\u001b[0m\u001b[1m)\u001b[0m: \u001b[2mReturn self<=value.\u001b[0m                             \u001b[34m│\u001b[0m\n",
       "\u001b[34m│\u001b[0m            \u001b[2;3;33m__lt__\u001b[0m = \u001b[3;96mdef \u001b[0m\u001b[1;31m__lt__\u001b[0m\u001b[1m(\u001b[0mvalue, \u001b[35m/\u001b[0m\u001b[1m)\u001b[0m: \u001b[2mReturn self<value.\u001b[0m                              \u001b[34m│\u001b[0m\n",
       "\u001b[34m│\u001b[0m            \u001b[2;3;33m__ne__\u001b[0m = \u001b[3;96mdef \u001b[0m\u001b[1;31m__ne__\u001b[0m\u001b[1m(\u001b[0mvalue, \u001b[35m/\u001b[0m\u001b[1m)\u001b[0m: \u001b[2mReturn self!=value.\u001b[0m                             \u001b[34m│\u001b[0m\n",
       "\u001b[34m│\u001b[0m           \u001b[2;3;33m__new__\u001b[0m = \u001b[3;96mdef \u001b[0m\u001b[1;31m__new__\u001b[0m\u001b[1m(\u001b[0m*args, **kwargs\u001b[1m)\u001b[0m: \u001b[2mCreate and return a new object.  See \u001b[0m   \u001b[34m│\u001b[0m\n",
       "\u001b[34m│\u001b[0m                     \u001b[1;2;35mhelp\u001b[0m\u001b[1;2m(\u001b[0m\u001b[2mtype\u001b[0m\u001b[1;2m)\u001b[0m\u001b[2m for accurate signature.\u001b[0m                                    \u001b[34m│\u001b[0m\n",
       "\u001b[34m│\u001b[0m        \u001b[2;3;33m__reduce__\u001b[0m = \u001b[3;96mdef \u001b[0m\u001b[1;31m__reduce__\u001b[0m\u001b[1m(\u001b[0m\u001b[1m)\u001b[0m: \u001b[2mHelper for pickle.\u001b[0m                                  \u001b[34m│\u001b[0m\n",
       "\u001b[34m│\u001b[0m     \u001b[2;3;33m__reduce_ex__\u001b[0m = \u001b[3;96mdef \u001b[0m\u001b[1;31m__reduce_ex__\u001b[0m\u001b[1m(\u001b[0mprotocol, \u001b[35m/\u001b[0m\u001b[1m)\u001b[0m: \u001b[2mHelper for pickle.\u001b[0m                    \u001b[34m│\u001b[0m\n",
       "\u001b[34m│\u001b[0m          \u001b[2;3;33m__repr__\u001b[0m = \u001b[3;96mdef \u001b[0m\u001b[1;31m__repr__\u001b[0m\u001b[1m(\u001b[0m\u001b[1m)\u001b[0m: \u001b[2mReturn \u001b[0m\u001b[1;2;35mrepr\u001b[0m\u001b[1;2m(\u001b[0m\u001b[2mself\u001b[0m\u001b[1;2m)\u001b[0m\u001b[2m.\u001b[0m                                    \u001b[34m│\u001b[0m\n",
       "\u001b[34m│\u001b[0m       \u001b[2;3;33m__setattr__\u001b[0m = \u001b[3;96mdef \u001b[0m\u001b[1;31m__setattr__\u001b[0m\u001b[1m(\u001b[0mname, value, \u001b[35m/\u001b[0m\u001b[1m)\u001b[0m: \u001b[2mImplement \u001b[0m\u001b[1;2;35msetattr\u001b[0m\u001b[1;2m(\u001b[0m\u001b[2mself, name, \u001b[0m       \u001b[34m│\u001b[0m\n",
       "\u001b[34m│\u001b[0m                     \u001b[2mvalue\u001b[0m\u001b[1;2m)\u001b[0m\u001b[2m.\u001b[0m                                                               \u001b[34m│\u001b[0m\n",
       "\u001b[34m│\u001b[0m        \u001b[2;3;33m__sizeof__\u001b[0m = \u001b[3;96mdef \u001b[0m\u001b[1;31m__sizeof__\u001b[0m\u001b[1m(\u001b[0m\u001b[1m)\u001b[0m: \u001b[2mSize of object in memory, in bytes.\u001b[0m                 \u001b[34m│\u001b[0m\n",
       "\u001b[34m│\u001b[0m           \u001b[2;3;33m__str__\u001b[0m = \u001b[3;96mdef \u001b[0m\u001b[1;31m__str__\u001b[0m\u001b[1m(\u001b[0m\u001b[1m)\u001b[0m -> str: \u001b[2mReturn \u001b[0m\u001b[1;2;35mstr\u001b[0m\u001b[1;2m(\u001b[0m\u001b[2mself\u001b[0m\u001b[1;2m)\u001b[0m\u001b[2m.\u001b[0m                               \u001b[34m│\u001b[0m\n",
       "\u001b[34m│\u001b[0m  \u001b[2;3;33m__subclasshook__\u001b[0m = \u001b[3;96mdef \u001b[0m\u001b[1;31m__subclasshook__\u001b[0m\u001b[1m(\u001b[0m\u001b[33m...\u001b[0m\u001b[1m)\u001b[0m \u001b[2mAbstract classes can override this to \u001b[0m      \u001b[34m│\u001b[0m\n",
       "\u001b[34m│\u001b[0m                     \u001b[2mcustomize \u001b[0m\u001b[1;2;35missubclass\u001b[0m\u001b[1;2m(\u001b[0m\u001b[1;2m)\u001b[0m\u001b[2m.\u001b[0m                                               \u001b[34m│\u001b[0m\n",
       "\u001b[34m╰───────────────────────────────────────────────────────────────────────────────────────────╯\u001b[0m\n"
      ]
     },
     "metadata": {},
     "output_type": "display_data"
    }
   ],
   "source": [
    "inspect(a, all=True)"
   ]
  },
  {
   "cell_type": "code",
   "execution_count": null,
   "metadata": {},
   "outputs": [],
   "source": []
  }
 ],
 "metadata": {
  "interpreter": {
   "hash": "aee8b7b246df8f9039afb4144a1f6fd8d2ca17a180786b69acc140d282b71a49"
  },
  "kernelspec": {
   "display_name": "Python 3.10.4 64-bit",
   "language": "python",
   "name": "python3"
  },
  "language_info": {
   "codemirror_mode": {
    "name": "ipython",
    "version": 3
   },
   "file_extension": ".py",
   "mimetype": "text/x-python",
   "name": "python",
   "nbconvert_exporter": "python",
   "pygments_lexer": "ipython3",
   "version": "3.10.4"
  },
  "orig_nbformat": 4
 },
 "nbformat": 4,
 "nbformat_minor": 2
}
